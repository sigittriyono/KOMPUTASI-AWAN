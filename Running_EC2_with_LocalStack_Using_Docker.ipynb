{
  "nbformat": 4,
  "nbformat_minor": 0,
  "metadata": {
    "colab": {
      "provenance": []
    },
    "kernelspec": {
      "name": "python3",
      "display_name": "Python 3"
    },
    "language_info": {
      "name": "python"
    }
  },
  "cells": [
    {
      "cell_type": "markdown",
      "source": [
        "# Running EC2 menggunakan LocalStack dengan Docker Desktop"
      ],
      "metadata": {
        "id": "7AIAoL9qXLyQ"
      }
    },
    {
      "cell_type": "markdown",
      "source": [
        "**File Flask API**\n",
        "\n",
        "https://drive.google.com/drive/folders/1e5XAmCvLalD_VfG233_BmusyiXKgEq_U?usp=sharing"
      ],
      "metadata": {
        "id": "hXpFwybngNnJ"
      }
    },
    {
      "cell_type": "markdown",
      "source": [
        "Running LocalStack on Docker"
      ],
      "metadata": {
        "id": "eqYaRCYCXU7J"
      }
    },
    {
      "cell_type": "code",
      "execution_count": null,
      "metadata": {
        "id": "PDsJpUUhXDAf"
      },
      "outputs": [],
      "source": [
        "docker run --rm -it -p 4566:4566 -p 4571:4571 localstack/localstack"
      ]
    },
    {
      "cell_type": "markdown",
      "source": [
        "Masuk Ke dalam Container"
      ],
      "metadata": {
        "id": "o9MmR4xNXfaP"
      }
    },
    {
      "cell_type": "code",
      "source": [
        "docker exec -it localstack bash"
      ],
      "metadata": {
        "id": "XC7F9_sUXn7q"
      },
      "execution_count": null,
      "outputs": []
    },
    {
      "cell_type": "markdown",
      "source": [
        "Memetakan port ke host"
      ],
      "metadata": {
        "id": "7C4IQ-pFbzvf"
      }
    },
    {
      "cell_type": "code",
      "source": [
        "docker stop inspiring_mahavira # ganti sesuai container\n",
        "docker rm inspiring_mahavira\n",
        "docker run -d --name inspiring_mahavira -p 8000:8000 -p 4566:4566 localstack/localstack"
      ],
      "metadata": {
        "id": "_2HsFyLAb1qI"
      },
      "execution_count": null,
      "outputs": []
    },
    {
      "cell_type": "markdown",
      "source": [
        "Clone Flask API ke dalam Container"
      ],
      "metadata": {
        "id": "z-lwvh6SXwxu"
      }
    },
    {
      "cell_type": "code",
      "source": [
        "apt update",
        "apt install -y python3 python3-pip curl git\n",
        "git clone https://gitlab.com/HarshCasper/flask-api-example.git\n",
        "cd flask-api-example\n",
        "pip3 install flask\n",
        "python3 app.py --host=0.0.0.0 --port=8000"
      ],
      "metadata": {
        "id": "a1Kw4d5KZWtS"
      },
      "execution_count": null,
      "outputs": []
    },
    {
      "cell_type": "markdown",
      "source": [
        "Jalankan Flask API"
      ],
      "metadata": {
        "id": "vgGRHoMOX8S6"
      }
    },
    {
      "cell_type": "code",
      "source": [
        "python3 app.py --host=0.0.0.0 --port=8000\n",
        "\n",
        "# Jika ingin menjalankannya di background\n",
        "nohup python3 app.py --host=0.0.0.0 --port=8000 &"
      ],
      "metadata": {
        "id": "y6TceW6OYAMu"
      },
      "execution_count": null,
      "outputs": []
    },
    {
      "cell_type": "markdown",
      "source": [
        " Jika Berhasil hasilnya akan menampilkan ini\n",
        " * Running on all addresses (0.0.0.0)\n",
        " * Running on http://127.0.0.1:8000\n",
        " * Running on http://172.17.0.2:8000"
      ],
      "metadata": {
        "id": "RGCaPmqFYBO4"
      }
    },
    {
      "cell_type": "markdown",
      "source": [
        "Cek API"
      ],
      "metadata": {
        "id": "r2jpAdsZYRyy"
      }
    },
    {
      "cell_type": "code",
      "source": [
        "curl http://localhost:8000/"
      ],
      "metadata": {
        "id": "DKamQZEpYF4O"
      },
      "execution_count": null,
      "outputs": []
    },
    {
      "cell_type": "markdown",
      "source": [
        "Atau Buka pada Browser"
      ],
      "metadata": {
        "id": "gYSuALY6crnF"
      }
    },
    {
      "cell_type": "code",
      "source": [
        "http://localhost:8000/"
      ],
      "metadata": {
        "id": "yELb8Z7Cctux"
      },
      "execution_count": null,
      "outputs": []
    },
    {
      "cell_type": "markdown",
      "source": [
        "Untuk percobaan Additional kirim GET dan POST"
      ],
      "metadata": {
        "id": "uvUVI_FXdOwV"
      }
    },
    {
      "cell_type": "code",
      "source": [
        "# get\n",
        "curl http://localhost:8000/get\n",
        "\n",
        "# post\n",
        "curl -X POST -H \"Content-Type: application/json\" -d '{\"key\": \"value\"}' http://localhost:8000/post"
      ],
      "metadata": {
        "id": "ub2xs-f8dd4p"
      },
      "execution_count": null,
      "outputs": []
    }
  ]
}
